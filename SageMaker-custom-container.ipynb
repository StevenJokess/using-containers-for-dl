{
 "cells": [
  {
   "cell_type": "markdown",
   "metadata": {},
   "source": [
    "# Custom container with SageMaker"
   ]
  },
  {
   "cell_type": "code",
   "execution_count": 1,
   "metadata": {},
   "outputs": [],
   "source": [
    "import os\n",
    "import numpy as np\n",
    "import sagemaker\n",
    "import boto3\n",
    "import time\n",
    "import math\n",
    "import json\n",
    "import re\n",
    "import pandas as pd\n",
    "from sagemaker.session import s3_input\n",
    "from sagemaker.estimator import Estimator\n",
    "\n",
    "sagemaker_session = sagemaker.Session()\n",
    "\n",
    "client = boto3.client('sagemaker')\n",
    "region = boto3.Session().region_name\n",
    "account = boto3.client('sts').get_caller_identity().get('Account')\n",
    "role = 'arn:aws:iam::{}:role/service-role/AmazonSageMaker-ExecutionRole-20190503T215251'.format(account)"
   ]
  },
  {
   "cell_type": "code",
   "execution_count": 2,
   "metadata": {},
   "outputs": [],
   "source": [
    "# Specify the dataset locations\n",
    "train_path = 's3://deep-learning-container-webinar/cifar10-dataset'\n",
    "eval_path = 's3://deep-learning-container-webinar/cifar10-dataset'\n",
    "output_path = 's3://deep-learning-container-webinar/'\n",
    "\n",
    "# Specify the container image to use\n",
    "image = '{}.dkr.ecr.{}.amazonaws.com/dl-webinar-repo-sagemaker:latest'.format(account, region)\n",
    "\n",
    "# Create a sagemaker estimator\n",
    "estimator = Estimator(\n",
    "    image_name=image,\n",
    "    role=role,\n",
    "    train_instance_count=1,\n",
    "    train_instance_type='ml.p3.2xlarge',\n",
    "    output_path=output_path,\n",
    "    sagemaker_session=sagemaker_session)"
   ]
  },
  {
   "cell_type": "code",
   "execution_count": 3,
   "metadata": {},
   "outputs": [],
   "source": [
    "from sagemaker.tuner import IntegerParameter, CategoricalParameter, ContinuousParameter, HyperparameterTuner\n",
    "job_name = 'webinar-' + time.strftime('%Y-%m-%d-%H-%M-%S-%j', time.gmtime())\n",
    "\n",
    "hyperparameter_ranges = {\n",
    "    'max-learning-rate': ContinuousParameter(0.4, 0.9), \n",
    "    'data_aug_cutout_size': CategoricalParameter([5,8,10,12]),\n",
    "    'batch-size':    CategoricalParameter([128, 512]),\n",
    "    'batch_norm':    CategoricalParameter(['true', 'false']),\n",
    "    'momentum':      ContinuousParameter(0.9, 0.99),\n",
    "    'epochs':        CategoricalParameter([10, 15])\n",
    "}\n",
    "\n",
    "objective_metric_name = 'test_acc'\n",
    "objective_type = 'Maximize'\n",
    "metric_definitions=[{'Name': 'test_acc', 'Regex': 'test_acc:([0-9\\\\.]+)'}]\n",
    "\n",
    "tuner = HyperparameterTuner(estimator,\n",
    "                            objective_metric_name,\n",
    "                            hyperparameter_ranges,\n",
    "                            metric_definitions,\n",
    "                            strategy='Random',\n",
    "                            max_jobs=16,\n",
    "                            max_parallel_jobs=8,\n",
    "                            objective_type=objective_type)"
   ]
  },
  {
   "cell_type": "code",
   "execution_count": 4,
   "metadata": {},
   "outputs": [],
   "source": [
    "tuner.fit({'training': train_path,'eval': eval_path}, job_name=job_name)"
   ]
  }
 ],
 "metadata": {
  "kernelspec": {
   "display_name": "Environment (conda_tensorflow_p36)",
   "language": "python",
   "name": "conda_tensorflow_p36"
  },
  "language_info": {
   "codemirror_mode": {
    "name": "ipython",
    "version": 3
   },
   "file_extension": ".py",
   "mimetype": "text/x-python",
   "name": "python",
   "nbconvert_exporter": "python",
   "pygments_lexer": "ipython3",
   "version": "3.6.5"
  }
 },
 "nbformat": 4,
 "nbformat_minor": 4
}
